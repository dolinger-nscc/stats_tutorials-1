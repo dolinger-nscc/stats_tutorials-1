{
 "cells": [
  {
   "cell_type": "code",
   "execution_count": 10,
   "id": "d838a75e",
   "metadata": {},
   "outputs": [],
   "source": [
    "from scipy import stats\n",
    "import pandas as pd\n",
    "import matplotlib.pyplot as plt\n",
    "import seaborn as sns"
   ]
  },
  {
   "cell_type": "code",
   "execution_count": 11,
   "id": "18f6d03f",
   "metadata": {},
   "outputs": [
    {
     "data": {
      "text/html": [
       "<div>\n",
       "<style scoped>\n",
       "    .dataframe tbody tr th:only-of-type {\n",
       "        vertical-align: middle;\n",
       "    }\n",
       "\n",
       "    .dataframe tbody tr th {\n",
       "        vertical-align: top;\n",
       "    }\n",
       "\n",
       "    .dataframe thead th {\n",
       "        text-align: right;\n",
       "    }\n",
       "</style>\n",
       "<table border=\"1\" class=\"dataframe\">\n",
       "  <thead>\n",
       "    <tr style=\"text-align: right;\">\n",
       "      <th></th>\n",
       "      <th>Player ID</th>\n",
       "      <th>NBA Heights CM</th>\n",
       "    </tr>\n",
       "  </thead>\n",
       "  <tbody>\n",
       "    <tr>\n",
       "      <th>0</th>\n",
       "      <td>1317</td>\n",
       "      <td>213.4</td>\n",
       "    </tr>\n",
       "    <tr>\n",
       "      <th>1</th>\n",
       "      <td>1334</td>\n",
       "      <td>195.5</td>\n",
       "    </tr>\n",
       "    <tr>\n",
       "      <th>2</th>\n",
       "      <td>1362</td>\n",
       "      <td>188.0</td>\n",
       "    </tr>\n",
       "    <tr>\n",
       "      <th>3</th>\n",
       "      <td>1364</td>\n",
       "      <td>195.5</td>\n",
       "    </tr>\n",
       "    <tr>\n",
       "      <th>4</th>\n",
       "      <td>1446</td>\n",
       "      <td>210.8</td>\n",
       "    </tr>\n",
       "  </tbody>\n",
       "</table>\n",
       "</div>"
      ],
      "text/plain": [
       "   Player ID  NBA Heights CM\n",
       "0       1317           213.4\n",
       "1       1334           195.5\n",
       "2       1362           188.0\n",
       "3       1364           195.5\n",
       "4       1446           210.8"
      ]
     },
     "execution_count": 11,
     "metadata": {},
     "output_type": "execute_result"
    }
   ],
   "source": [
    "df = pd.read_csv('./data/nba_heights.csv')\n",
    "df.head()"
   ]
  },
  {
   "cell_type": "code",
   "execution_count": 12,
   "id": "60684837",
   "metadata": {},
   "outputs": [
    {
     "name": "stdout",
     "output_type": "stream",
     "text": [
      "<class 'pandas.core.frame.DataFrame'>\n",
      "RangeIndex: 100 entries, 0 to 99\n",
      "Data columns (total 2 columns):\n",
      " #   Column      Non-Null Count  Dtype  \n",
      "---  ------      --------------  -----  \n",
      " 0   Player_ID   100 non-null    int64  \n",
      " 1   Heights_CM  100 non-null    float64\n",
      "dtypes: float64(1), int64(1)\n",
      "memory usage: 1.7 KB\n"
     ]
    }
   ],
   "source": [
    "df.columns=['Player_ID', 'Heights_CM']\n",
    "df.info()"
   ]
  },
  {
   "cell_type": "markdown",
   "id": "98a706ce",
   "metadata": {},
   "source": [
    "# Z-Score\n",
    "\n",
    "The z-score of a data point is a measure of how many standard deviations it is from the mean of the data set. It is calculated using the following formula:\n",
    "\n",
    "$$ Z = \\frac{X - \\mu}{\\sigma} $$\n",
    "\n",
    "Where:\n",
    "- $Z$ is the z-score\n",
    "- $X$ is the value of the data point\n",
    "- $\\mu$ is the mean of the data set\n",
    "- $\\sigma$ is the standard deviation of the data set\n",
    "\n",
    "A positive z-score indicates that the data point is above the mean, while a negative z-score indicates that it is below the mean.\n"
   ]
  },
  {
   "cell_type": "code",
   "execution_count": 13,
   "id": "f6f075e7",
   "metadata": {},
   "outputs": [
    {
     "data": {
      "text/html": [
       "<div>\n",
       "<style scoped>\n",
       "    .dataframe tbody tr th:only-of-type {\n",
       "        vertical-align: middle;\n",
       "    }\n",
       "\n",
       "    .dataframe tbody tr th {\n",
       "        vertical-align: top;\n",
       "    }\n",
       "\n",
       "    .dataframe thead th {\n",
       "        text-align: right;\n",
       "    }\n",
       "</style>\n",
       "<table border=\"1\" class=\"dataframe\">\n",
       "  <thead>\n",
       "    <tr style=\"text-align: right;\">\n",
       "      <th></th>\n",
       "      <th>Player_ID</th>\n",
       "      <th>Heights_CM</th>\n",
       "      <th>z_scores</th>\n",
       "    </tr>\n",
       "  </thead>\n",
       "  <tbody>\n",
       "    <tr>\n",
       "      <th>0</th>\n",
       "      <td>1317</td>\n",
       "      <td>213.4</td>\n",
       "      <td>1.528382</td>\n",
       "    </tr>\n",
       "    <tr>\n",
       "      <th>1</th>\n",
       "      <td>1334</td>\n",
       "      <td>195.5</td>\n",
       "      <td>-0.641685</td>\n",
       "    </tr>\n",
       "    <tr>\n",
       "      <th>2</th>\n",
       "      <td>1362</td>\n",
       "      <td>188.0</td>\n",
       "      <td>-1.550932</td>\n",
       "    </tr>\n",
       "    <tr>\n",
       "      <th>3</th>\n",
       "      <td>1364</td>\n",
       "      <td>195.5</td>\n",
       "      <td>-0.641685</td>\n",
       "    </tr>\n",
       "    <tr>\n",
       "      <th>4</th>\n",
       "      <td>1446</td>\n",
       "      <td>210.8</td>\n",
       "      <td>1.213177</td>\n",
       "    </tr>\n",
       "  </tbody>\n",
       "</table>\n",
       "</div>"
      ],
      "text/plain": [
       "   Player_ID  Heights_CM  z_scores\n",
       "0       1317       213.4  1.528382\n",
       "1       1334       195.5 -0.641685\n",
       "2       1362       188.0 -1.550932\n",
       "3       1364       195.5 -0.641685\n",
       "4       1446       210.8  1.213177"
      ]
     },
     "execution_count": 13,
     "metadata": {},
     "output_type": "execute_result"
    }
   ],
   "source": [
    "# Calculate z-scores\n",
    "df['z_scores'] = z_scores = stats.zscore(df['Heights_CM'])\n",
    "df.head()"
   ]
  },
  {
   "cell_type": "code",
   "execution_count": 34,
   "id": "111b3904",
   "metadata": {},
   "outputs": [
    {
     "data": {
      "text/html": [
       "<div>\n",
       "<style scoped>\n",
       "    .dataframe tbody tr th:only-of-type {\n",
       "        vertical-align: middle;\n",
       "    }\n",
       "\n",
       "    .dataframe tbody tr th {\n",
       "        vertical-align: top;\n",
       "    }\n",
       "\n",
       "    .dataframe thead th {\n",
       "        text-align: right;\n",
       "    }\n",
       "</style>\n",
       "<table border=\"1\" class=\"dataframe\">\n",
       "  <thead>\n",
       "    <tr style=\"text-align: right;\">\n",
       "      <th></th>\n",
       "      <th>count</th>\n",
       "      <th>mean</th>\n",
       "      <th>std</th>\n",
       "      <th>min</th>\n",
       "      <th>25%</th>\n",
       "      <th>50%</th>\n",
       "      <th>75%</th>\n",
       "      <th>max</th>\n",
       "    </tr>\n",
       "  </thead>\n",
       "  <tbody>\n",
       "    <tr>\n",
       "      <th>Player_ID</th>\n",
       "      <td>100.0</td>\n",
       "      <td>3.375060e+03</td>\n",
       "      <td>1281.121808</td>\n",
       "      <td>1317.000000</td>\n",
       "      <td>2162.250000</td>\n",
       "      <td>3462.500000</td>\n",
       "      <td>4335.000000</td>\n",
       "      <td>5592.000000</td>\n",
       "    </tr>\n",
       "    <tr>\n",
       "      <th>Heights_CM</th>\n",
       "      <td>100.0</td>\n",
       "      <td>2.007930e+02</td>\n",
       "      <td>8.290146</td>\n",
       "      <td>180.500000</td>\n",
       "      <td>195.500000</td>\n",
       "      <td>200.600000</td>\n",
       "      <td>205.700000</td>\n",
       "      <td>231.100000</td>\n",
       "    </tr>\n",
       "    <tr>\n",
       "      <th>z_scores</th>\n",
       "      <td>100.0</td>\n",
       "      <td>-7.283063e-16</td>\n",
       "      <td>1.005038</td>\n",
       "      <td>-2.460178</td>\n",
       "      <td>-0.641685</td>\n",
       "      <td>-0.023398</td>\n",
       "      <td>0.594889</td>\n",
       "      <td>3.674203</td>\n",
       "    </tr>\n",
       "  </tbody>\n",
       "</table>\n",
       "</div>"
      ],
      "text/plain": [
       "            count          mean          std          min          25%  \\\n",
       "Player_ID   100.0  3.375060e+03  1281.121808  1317.000000  2162.250000   \n",
       "Heights_CM  100.0  2.007930e+02     8.290146   180.500000   195.500000   \n",
       "z_scores    100.0 -7.283063e-16     1.005038    -2.460178    -0.641685   \n",
       "\n",
       "                    50%          75%          max  \n",
       "Player_ID   3462.500000  4335.000000  5592.000000  \n",
       "Heights_CM   200.600000   205.700000   231.100000  \n",
       "z_scores      -0.023398     0.594889     3.674203  "
      ]
     },
     "execution_count": 34,
     "metadata": {},
     "output_type": "execute_result"
    }
   ],
   "source": [
    "df.describe().T"
   ]
  },
  {
   "cell_type": "code",
   "execution_count": 36,
   "id": "d51fbf29",
   "metadata": {},
   "outputs": [
    {
     "data": {
      "image/png": "[encoded data removed]",
      "text/plain": [
       "<Figure size 640x480 with 1 Axes>"
      ]
     },
     "metadata": {},
     "output_type": "display_data"
    }
   ],
   "source": [
    "# plot the heights\n",
    "heights = df['Heights_CM']\n",
    "plt.hist(x = heights, bins=10);"
   ]
  },
  {
   "cell_type": "code",
   "execution_count": 37,
   "id": "a0ca7ebe",
   "metadata": {},
   "outputs": [
    {
     "data": {
      "image/png": "[encoded data removed]",
      "text/plain": [
       "<Figure size 640x480 with 1 Axes>"
      ]
     },
     "metadata": {},
     "output_type": "display_data"
    }
   ],
   "source": [
    "# plot the z-scores\n",
    "z_scores = df['z_scores']\n",
    "plt.hist(x = z_scores, bins=10);"
   ]
  },
  {
   "cell_type": "code",
   "execution_count": 32,
   "id": "a9d4f279",
   "metadata": {},
   "outputs": [
    {
     "data": {
      "image/png": "[encoded data removed]",
      "text/plain": [
       "<Figure size 1000x600 with 1 Axes>"
      ]
     },
     "metadata": {},
     "output_type": "display_data"
    }
   ],
   "source": [
    "freq = df['z_scores'].value_counts().reset_index()\n",
    "freq.columns = ['z_scores', 'frequency']\n",
    "\n",
    "\n",
    "# Create line chart\n",
    "plt.figure(figsize=(10, 6))\n",
    "sns.lineplot(data=freq, x='z_scores', y='frequency')\n",
    "plt.title('Line Chart of Z-scores vs Frequency')\n",
    "plt.show()\n"
   ]
  },
  {
   "cell_type": "code",
   "execution_count": null,
   "id": "35152303",
   "metadata": {},
   "outputs": [],
   "source": []
  },
  {
   "cell_type": "code",
   "execution_count": null,
   "id": "22526c2f",
   "metadata": {},
   "outputs": [],
   "source": []
  }
 ],
 "metadata": {
  "kernelspec": {
   "display_name": "Python 3 (ipykernel)",
   "language": "python",
   "name": "python3"
  },
  "language_info": {
   "codemirror_mode": {
    "name": "ipython",
    "version": 3
   },
   "file_extension": ".py",
   "mimetype": "text/x-python",
   "name": "python",
   "nbconvert_exporter": "python",
   "pygments_lexer": "ipython3",
   "version": "3.10.6"
  }
 },
 "nbformat": 4,
 "nbformat_minor": 5
}
